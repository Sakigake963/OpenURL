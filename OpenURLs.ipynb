{
 "cells": [
  {
   "cell_type": "code",
   "execution_count": null,
   "metadata": {},
   "outputs": [],
   "source": [
    "from datetime import date, datetime, timedelta\n",
    "import webbrowser as webb\n",
    "import urllib"
   ]
  },
  {
   "cell_type": "code",
   "execution_count": 7,
   "metadata": {},
   "outputs": [],
   "source": [
    "url_List = ['講義で使うURLを入れてください']\n",
    "\n",
    "#第一回目講義の講義日を入れてください\n",
    "start_Date = date(2022, 10, 3)"
   ]
  },
  {
   "cell_type": "code",
   "execution_count": 8,
   "metadata": {},
   "outputs": [
    {
     "name": "stdout",
     "output_type": "stream",
     "text": [
      "今日は講義日ではありません\n"
     ]
    }
   ],
   "source": [
    "#補講、複回を考慮していない\n",
    "def Todays_class_time(firstClassDate, canselClassCount):\n",
    "    StartDate = firstClassDate\n",
    "    date = firstClassDate\n",
    "    date_List = [StartDate.strftime('%Y-%-m-%-d')]\n",
    "    for i in range(15):\n",
    "        date += timedelta(days=7)\n",
    "        date_List.append(date.strftime('%Y-%-m-%-d'))\n",
    "\n",
    "    today = date.today().strftime('%Y-%-m-%-d')\n",
    "    today_class_times = -1\n",
    "    for i in range(len(date_List)):\n",
    "        if today == date_List[i]:\n",
    "            today_class_times = str(i+1)\n",
    "            print('今日の講義は第'+ today_class_times + '回目の講義です')\n",
    "            return today_class_times\n",
    "    print('今日は講義日ではありません')\n",
    "\n",
    "\n",
    "\n",
    "\n",
    "def opneURL(url_List):\n",
    "    for i in range(len(url_List)):\n",
    "        webb.open(url_List[i], new=0, autoraise=True)\n",
    "\n",
    "Todays_class_time(start_Date,0)\n",
    "opneURL(url_List)\n",
    "\n"
   ]
  }
 ],
 "metadata": {
  "kernelspec": {
   "display_name": "base",
   "language": "python",
   "name": "python3"
  },
  "language_info": {
   "codemirror_mode": {
    "name": "ipython",
    "version": 3
   },
   "file_extension": ".py",
   "mimetype": "text/x-python",
   "name": "python",
   "nbconvert_exporter": "python",
   "pygments_lexer": "ipython3",
   "version": "3.8.8"
  },
  "orig_nbformat": 4,
  "vscode": {
   "interpreter": {
    "hash": "0a74ec95521ce80a5f94cb76bd23e028ced5889a88177d5a8dcf15ed267b39dd"
   }
  }
 },
 "nbformat": 4,
 "nbformat_minor": 2
}
